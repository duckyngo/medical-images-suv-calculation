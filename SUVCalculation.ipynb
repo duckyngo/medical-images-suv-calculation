{
 "cells": [
  {
   "cell_type": "code",
   "execution_count": null,
   "metadata": {
    "collapsed": true
   },
   "outputs": [],
   "source": [
    "import os\n",
    "import pydicom\n",
    "import traceback\n",
    "import datetime\n",
    "import numpy as np"
   ]
  },
  {
   "cell_type": "code",
   "execution_count": 1,
   "outputs": [
    {
     "ename": "SyntaxError",
     "evalue": "unexpected EOF while parsing (<ipython-input-1-015c7f9d3305>, line 36)",
     "output_type": "error",
     "traceback": [
      "\u001B[1;36m  File \u001B[1;32m\"<ipython-input-1-015c7f9d3305>\"\u001B[1;36m, line \u001B[1;32m36\u001B[0m\n\u001B[1;33m    \u001B[0m\n\u001B[1;37m    ^\u001B[0m\n\u001B[1;31mSyntaxError\u001B[0m\u001B[1;31m:\u001B[0m unexpected EOF while parsing\n"
     ]
    }
   ],
   "source": [
    "def compute_suv_factor(image_path):\n",
    "\n",
    "    estimated = False\n",
    "\n",
    "    dcm_img = pydicom.dcmread(image_path, force=True)\n",
    "\n",
    "    try:\n",
    "        patient_weight = float(dcm_img.PatientWeight) * 1000\n",
    "        if patient_weight <= 0:\n",
    "            patient_weight = 75000\n",
    "            estimated = True\n",
    "\n",
    "    except:\n",
    "        traceback.print_exc()\n",
    "        patient_weight = 75000\n",
    "        estimated = True\n",
    "        \n",
    "    try:\n",
    "        scan_time = datetime.datetime.strptime(dcm_img.AcquisitionTime.split('.')[0], '%H%M%S')\n",
    "\n",
    "        injection_time = datetime.datetime.strptime(dcm_img.RadiopharmaceuticalInformationSequence[0].RadiopharmaceuticalStartTime.split('.')[0],\n",
    "                                                    '%H%M%S')\n",
    "\n",
    "        # Half Life for Radionuclide # seconds\n",
    "        half_life = float(dcm_img.RadiopharmaceuticalInformationSequence[0].RadionuclideHalfLife)\n",
    "        # Total dose injected for Radionuclide\n",
    "        injected_dose = float(dcm_img.RadiopharmaceuticalInformationSequence[0].RadionuclideTotalDose)\n",
    "\n",
    "        # Calculate decay\n",
    "        decay = np.exp(-np.log(2) * ((scan_time - injection_time).seconds) / half_life)\n",
    "        # Calculate the dose decayed during procedure\n",
    "        injected_dose_decay = injected_dose * decay\n",
    "\n",
    "    except:\n",
    "        traceback.print_exc()\n",
    "        decay = np.exp(-np.log(2) * (1.75 * 3600) / 6588)  # 90 min waiting time, 15 min preparation\n",
    "        injected_dose_decay = 420000000 * decay  # 420 MBq\n",
    "        estimated = True\n",
    "\n",
    "    suv_factor = patient_weight / injected_dose_decay\n",
    "    return suv_factor, estimated\n",
    "\n",
    "\n",
    "\n"
   ],
   "metadata": {
    "collapsed": false,
    "pycharm": {
     "name": "#%%\n"
    }
   }
  }
 ],
 "metadata": {
  "kernelspec": {
   "display_name": "Python 3",
   "language": "python",
   "name": "python3"
  },
  "language_info": {
   "codemirror_mode": {
    "name": "ipython",
    "version": 2
   },
   "file_extension": ".py",
   "mimetype": "text/x-python",
   "name": "python",
   "nbconvert_exporter": "python",
   "pygments_lexer": "ipython2",
   "version": "2.7.6"
  }
 },
 "nbformat": 4,
 "nbformat_minor": 0
}